{
 "nbformat": 4,
 "nbformat_minor": 0,
 "metadata": {
  "colab": {
   "name": "Cloud.ipynb",
   "provenance": [],
   "collapsed_sections": [],
   "toc_visible": true
  },
  "kernelspec": {
   "name": "python3",
   "language": "python",
   "display_name": "Python 3 (ipykernel)"
  }
 },
 "cells": [
  {
   "cell_type": "code",
   "metadata": {
    "id": "9mIqUlX_TNDB",
    "colab": {
     "base_uri": "https://localhost:8080/"
    },
    "executionInfo": {
     "status": "ok",
     "timestamp": 1628586074181,
     "user_tz": -120,
     "elapsed": 3123,
     "user": {
      "displayName": "Helmi Abdelfattah",
      "photoUrl": "https://lh3.googleusercontent.com/a-/AOh14GgZFWl6raNqgSiMJZOupPzwyQcI514jSIzifaNgPg=s64",
      "userId": "07425471660890074204"
     }
    },
    "outputId": "ae9f88fb-231a-4e55-f5d0-2145361385b3"
   },
   "source": [
    "! pip install pandas-datareader"
   ],
   "execution_count": 5,
   "outputs": [
    {
     "name": "stdout",
     "output_type": "stream",
     "text": [
      "Defaulting to user installation because normal site-packages is not writeable\n",
      "Requirement already satisfied: pandas-datareader in c:\\program files\\python39\\lib\\site-packages (0.10.0)\n",
      "Requirement already satisfied: lxml in c:\\program files\\python39\\lib\\site-packages (from pandas-datareader) (4.6.3)\n",
      "Requirement already satisfied: pandas>=0.23 in c:\\program files\\python39\\lib\\site-packages (from pandas-datareader) (1.3.1)\n",
      "Requirement already satisfied: requests>=2.19.0 in c:\\program files\\python39\\lib\\site-packages (from pandas-datareader) (2.26.0)\n",
      "Requirement already satisfied: pytz>=2017.3 in c:\\program files\\python39\\lib\\site-packages (from pandas>=0.23->pandas-datareader) (2021.1)\n",
      "Requirement already satisfied: numpy>=1.17.3 in c:\\program files\\python39\\lib\\site-packages (from pandas>=0.23->pandas-datareader) (1.19.5)\n",
      "Requirement already satisfied: python-dateutil>=2.7.3 in c:\\program files\\python39\\lib\\site-packages (from pandas>=0.23->pandas-datareader) (2.8.2)\n",
      "Requirement already satisfied: six>=1.5 in c:\\program files\\python39\\lib\\site-packages (from python-dateutil>=2.7.3->pandas>=0.23->pandas-datareader) (1.15.0)\n",
      "Requirement already satisfied: certifi>=2017.4.17 in c:\\program files\\python39\\lib\\site-packages (from requests>=2.19.0->pandas-datareader) (2021.5.30)\n",
      "Requirement already satisfied: urllib3<1.27,>=1.21.1 in c:\\program files\\python39\\lib\\site-packages (from requests>=2.19.0->pandas-datareader) (1.26.6)\n",
      "Requirement already satisfied: idna<4,>=2.5 in c:\\program files\\python39\\lib\\site-packages (from requests>=2.19.0->pandas-datareader) (3.2)\n",
      "Requirement already satisfied: charset-normalizer~=2.0.0 in c:\\program files\\python39\\lib\\site-packages (from requests>=2.19.0->pandas-datareader) (2.0.4)\n"
     ]
    }
   ]
  },
  {
   "cell_type": "markdown",
   "metadata": {
    "id": "9Rb86m1Q9BTp"
   },
   "source": [
    "# New Section"
   ]
  },
  {
   "cell_type": "code",
   "metadata": {
    "id": "91iiNbfO8fOl",
    "executionInfo": {
     "status": "ok",
     "timestamp": 1628586079358,
     "user_tz": -120,
     "elapsed": 620,
     "user": {
      "displayName": "Helmi Abdelfattah",
      "photoUrl": "https://lh3.googleusercontent.com/a-/AOh14GgZFWl6raNqgSiMJZOupPzwyQcI514jSIzifaNgPg=s64",
      "userId": "07425471660890074204"
     }
    }
   },
   "source": [
    ""
   ],
   "execution_count": 5,
   "outputs": []
  },
  {
   "cell_type": "code",
   "metadata": {
    "id": "eDN-zbtuTYei",
    "colab": {
     "base_uri": "https://localhost:8080/",
     "height": 380
    },
    "executionInfo": {
     "status": "error",
     "timestamp": 1628586082581,
     "user_tz": -120,
     "elapsed": 252,
     "user": {
      "displayName": "Helmi Abdelfattah",
      "photoUrl": "https://lh3.googleusercontent.com/a-/AOh14GgZFWl6raNqgSiMJZOupPzwyQcI514jSIzifaNgPg=s64",
      "userId": "07425471660890074204"
     }
    },
    "outputId": "1293865b-1d95-437d-8947-86c40cc1fad6"
   },
   "source": [
    "import pandas_datareader.data as web\n",
    "\n",
    "from datetime import datetime\n",
    "\n",
    "start = datetime(2015, 2, 9)\n",
    "\n",
    "end = datetime(2017, 5, 24)\n",
    "\n",
    "f = web.DataReader('F', 'iex', start, end)\n",
    "\n",
    "f.head()"
   ],
   "execution_count": 6,
   "outputs": [
    {
     "ename": "ValueError",
     "evalue": "The IEX Cloud API key must be provided either through the api_key variable or through the  environment variable IEX_API_KEY",
     "output_type": "error",
     "traceback": [
      "\u001B[1;31m---------------------------------------------------------------------------\u001B[0m",
      "\u001B[1;31mValueError\u001B[0m                                Traceback (most recent call last)",
      "\u001B[1;32m~\\AppData\\Local\\Temp/ipykernel_9592/1556937163.py\u001B[0m in \u001B[0;36m<module>\u001B[1;34m\u001B[0m\n\u001B[0;32m      7\u001B[0m \u001B[0mend\u001B[0m \u001B[1;33m=\u001B[0m \u001B[0mdatetime\u001B[0m\u001B[1;33m(\u001B[0m\u001B[1;36m2017\u001B[0m\u001B[1;33m,\u001B[0m \u001B[1;36m5\u001B[0m\u001B[1;33m,\u001B[0m \u001B[1;36m24\u001B[0m\u001B[1;33m)\u001B[0m\u001B[1;33m\u001B[0m\u001B[1;33m\u001B[0m\u001B[0m\n\u001B[0;32m      8\u001B[0m \u001B[1;33m\u001B[0m\u001B[0m\n\u001B[1;32m----> 9\u001B[1;33m \u001B[0mf\u001B[0m \u001B[1;33m=\u001B[0m \u001B[0mweb\u001B[0m\u001B[1;33m.\u001B[0m\u001B[0mDataReader\u001B[0m\u001B[1;33m(\u001B[0m\u001B[1;34m'F'\u001B[0m\u001B[1;33m,\u001B[0m \u001B[1;34m'iex'\u001B[0m\u001B[1;33m,\u001B[0m \u001B[0mstart\u001B[0m\u001B[1;33m,\u001B[0m \u001B[0mend\u001B[0m\u001B[1;33m)\u001B[0m\u001B[1;33m\u001B[0m\u001B[1;33m\u001B[0m\u001B[0m\n\u001B[0m\u001B[0;32m     10\u001B[0m \u001B[1;33m\u001B[0m\u001B[0m\n\u001B[0;32m     11\u001B[0m \u001B[0mf\u001B[0m\u001B[1;33m.\u001B[0m\u001B[0mhead\u001B[0m\u001B[1;33m(\u001B[0m\u001B[1;33m)\u001B[0m\u001B[1;33m\u001B[0m\u001B[1;33m\u001B[0m\u001B[0m\n",
      "\u001B[1;32mC:\\Program Files\\Python39\\lib\\site-packages\\pandas\\util\\_decorators.py\u001B[0m in \u001B[0;36mwrapper\u001B[1;34m(*args, **kwargs)\u001B[0m\n\u001B[0;32m    205\u001B[0m                 \u001B[1;32melse\u001B[0m\u001B[1;33m:\u001B[0m\u001B[1;33m\u001B[0m\u001B[1;33m\u001B[0m\u001B[0m\n\u001B[0;32m    206\u001B[0m                     \u001B[0mkwargs\u001B[0m\u001B[1;33m[\u001B[0m\u001B[0mnew_arg_name\u001B[0m\u001B[1;33m]\u001B[0m \u001B[1;33m=\u001B[0m \u001B[0mnew_arg_value\u001B[0m\u001B[1;33m\u001B[0m\u001B[1;33m\u001B[0m\u001B[0m\n\u001B[1;32m--> 207\u001B[1;33m             \u001B[1;32mreturn\u001B[0m \u001B[0mfunc\u001B[0m\u001B[1;33m(\u001B[0m\u001B[1;33m*\u001B[0m\u001B[0margs\u001B[0m\u001B[1;33m,\u001B[0m \u001B[1;33m**\u001B[0m\u001B[0mkwargs\u001B[0m\u001B[1;33m)\u001B[0m\u001B[1;33m\u001B[0m\u001B[1;33m\u001B[0m\u001B[0m\n\u001B[0m\u001B[0;32m    208\u001B[0m \u001B[1;33m\u001B[0m\u001B[0m\n\u001B[0;32m    209\u001B[0m         \u001B[1;32mreturn\u001B[0m \u001B[0mcast\u001B[0m\u001B[1;33m(\u001B[0m\u001B[0mF\u001B[0m\u001B[1;33m,\u001B[0m \u001B[0mwrapper\u001B[0m\u001B[1;33m)\u001B[0m\u001B[1;33m\u001B[0m\u001B[1;33m\u001B[0m\u001B[0m\n",
      "\u001B[1;32mC:\\Program Files\\Python39\\lib\\site-packages\\pandas_datareader\\data.py\u001B[0m in \u001B[0;36mDataReader\u001B[1;34m(name, data_source, start, end, retry_count, pause, session, api_key)\u001B[0m\n\u001B[0;32m    380\u001B[0m \u001B[1;33m\u001B[0m\u001B[0m\n\u001B[0;32m    381\u001B[0m     \u001B[1;32melif\u001B[0m \u001B[0mdata_source\u001B[0m \u001B[1;33m==\u001B[0m \u001B[1;34m\"iex\"\u001B[0m\u001B[1;33m:\u001B[0m\u001B[1;33m\u001B[0m\u001B[1;33m\u001B[0m\u001B[0m\n\u001B[1;32m--> 382\u001B[1;33m         return IEXDailyReader(\n\u001B[0m\u001B[0;32m    383\u001B[0m             \u001B[0msymbols\u001B[0m\u001B[1;33m=\u001B[0m\u001B[0mname\u001B[0m\u001B[1;33m,\u001B[0m\u001B[1;33m\u001B[0m\u001B[1;33m\u001B[0m\u001B[0m\n\u001B[0;32m    384\u001B[0m             \u001B[0mstart\u001B[0m\u001B[1;33m=\u001B[0m\u001B[0mstart\u001B[0m\u001B[1;33m,\u001B[0m\u001B[1;33m\u001B[0m\u001B[1;33m\u001B[0m\u001B[0m\n",
      "\u001B[1;32mC:\\Program Files\\Python39\\lib\\site-packages\\pandas_datareader\\iex\\daily.py\u001B[0m in \u001B[0;36m__init__\u001B[1;34m(self, symbols, start, end, retry_count, pause, session, chunksize, api_key)\u001B[0m\n\u001B[0;32m     61\u001B[0m             \u001B[0mapi_key\u001B[0m \u001B[1;33m=\u001B[0m \u001B[0mos\u001B[0m\u001B[1;33m.\u001B[0m\u001B[0mgetenv\u001B[0m\u001B[1;33m(\u001B[0m\u001B[1;34m\"IEX_API_KEY\"\u001B[0m\u001B[1;33m)\u001B[0m\u001B[1;33m\u001B[0m\u001B[1;33m\u001B[0m\u001B[0m\n\u001B[0;32m     62\u001B[0m         \u001B[1;32mif\u001B[0m \u001B[1;32mnot\u001B[0m \u001B[0mapi_key\u001B[0m \u001B[1;32mor\u001B[0m \u001B[1;32mnot\u001B[0m \u001B[0misinstance\u001B[0m\u001B[1;33m(\u001B[0m\u001B[0mapi_key\u001B[0m\u001B[1;33m,\u001B[0m \u001B[0mstr\u001B[0m\u001B[1;33m)\u001B[0m\u001B[1;33m:\u001B[0m\u001B[1;33m\u001B[0m\u001B[1;33m\u001B[0m\u001B[0m\n\u001B[1;32m---> 63\u001B[1;33m             raise ValueError(\n\u001B[0m\u001B[0;32m     64\u001B[0m                 \u001B[1;34m\"The IEX Cloud API key must be provided either \"\u001B[0m\u001B[1;33m\u001B[0m\u001B[1;33m\u001B[0m\u001B[0m\n\u001B[0;32m     65\u001B[0m                 \u001B[1;34m\"through the api_key variable or through the \"\u001B[0m\u001B[1;33m\u001B[0m\u001B[1;33m\u001B[0m\u001B[0m\n",
      "\u001B[1;31mValueError\u001B[0m: The IEX Cloud API key must be provided either through the api_key variable or through the  environment variable IEX_API_KEY"
     ]
    }
   ]
  },
  {
   "cell_type": "code",
   "metadata": {
    "id": "UC-db0m3En8b"
   },
   "source": [
    ""
   ],
   "execution_count": null,
   "outputs": []
  },
  {
   "cell_type": "code",
   "metadata": {
    "id": "8z9vmwysVYoo"
   },
   "source": [
    ""
   ],
   "execution_count": null,
   "outputs": []
  },
  {
   "cell_type": "code",
   "metadata": {
    "id": "KN1jrASsUEEM"
   },
   "source": [
    ""
   ],
   "execution_count": null,
   "outputs": []
  },
  {
   "cell_type": "code",
   "metadata": {
    "id": "X3KIweiLQWrB",
    "colab": {
     "base_uri": "https://localhost:8080/"
    },
    "executionInfo": {
     "status": "ok",
     "timestamp": 1628546798758,
     "user_tz": -120,
     "elapsed": 1527,
     "user": {
      "displayName": "Ahmed Aimn",
      "photoUrl": "https://lh3.googleusercontent.com/a-/AOh14GiQ0TvUigJghS1huM6jIa6PEnYMd1QQKWQteKhkJw=s64",
      "userId": "11965366870667803723"
     }
    },
    "outputId": "e38de669-51b5-4dbc-e3b8-76a23a93fe6b"
   },
   "source": [
    "! git clone https://github.com/kvoyager/GmdhPy.git"
   ],
   "execution_count": null,
   "outputs": []
  },
  {
   "cell_type": "code",
   "metadata": {
    "id": "k_rDHrhOQ0hQ"
   },
   "source": [
    "import os "
   ],
   "execution_count": null,
   "outputs": []
  },
  {
   "cell_type": "code",
   "metadata": {
    "id": "5TpHSy07RCZ5"
   },
   "source": [
    "os.chdir('/content/GmdhPy/')"
   ],
   "execution_count": null,
   "outputs": []
  },
  {
   "cell_type": "code",
   "metadata": {
    "id": "psWeDiWBRhUh",
    "colab": {
     "base_uri": "https://localhost:8080/"
    },
    "executionInfo": {
     "status": "ok",
     "timestamp": 1628546816085,
     "user_tz": -120,
     "elapsed": 1422,
     "user": {
      "displayName": "Ahmed Aimn",
      "photoUrl": "https://lh3.googleusercontent.com/a-/AOh14GiQ0TvUigJghS1huM6jIa6PEnYMd1QQKWQteKhkJw=s64",
      "userId": "11965366870667803723"
     }
    },
    "outputId": "027078c6-770b-4220-b006-f01be66b8490"
   },
   "source": [
    "!  python setup.py install"
   ],
   "execution_count": null,
   "outputs": []
  },
  {
   "cell_type": "code",
   "metadata": {
    "id": "Hhpk1xYvQ5Np",
    "colab": {
     "base_uri": "https://localhost:8080/"
    },
    "executionInfo": {
     "status": "ok",
     "timestamp": 1628546831613,
     "user_tz": -120,
     "elapsed": 407,
     "user": {
      "displayName": "Ahmed Aimn",
      "photoUrl": "https://lh3.googleusercontent.com/a-/AOh14GiQ0TvUigJghS1huM6jIa6PEnYMd1QQKWQteKhkJw=s64",
      "userId": "11965366870667803723"
     }
    },
    "outputId": "74220b45-a894-480f-f3ed-83c72a1e45e4"
   },
   "source": [
    "! ls /content/GmdhPy/"
   ],
   "execution_count": null,
   "outputs": []
  },
  {
   "cell_type": "code",
   "metadata": {
    "id": "t_jHeRr1ScN6",
    "colab": {
     "base_uri": "https://localhost:8080/"
    },
    "executionInfo": {
     "status": "ok",
     "timestamp": 1628546845824,
     "user_tz": -120,
     "elapsed": 9399,
     "user": {
      "displayName": "Ahmed Aimn",
      "photoUrl": "https://lh3.googleusercontent.com/a-/AOh14GiQ0TvUigJghS1huM6jIa6PEnYMd1QQKWQteKhkJw=s64",
      "userId": "11965366870667803723"
     }
    },
    "outputId": "1b846b34-b3c5-4bbd-ab93-cd5027fea610"
   },
   "source": [
    "!pip install -q pydot\n",
    "!pip install graphviz \n",
    "!apt-get install graphviz"
   ],
   "execution_count": null,
   "outputs": []
  },
  {
   "cell_type": "code",
   "metadata": {
    "id": "1VeYMxG8Ph4K",
    "colab": {
     "base_uri": "https://localhost:8080/",
     "height": 279
    },
    "executionInfo": {
     "status": "ok",
     "timestamp": 1628546854095,
     "user_tz": -120,
     "elapsed": 769,
     "user": {
      "displayName": "Ahmed Aimn",
      "photoUrl": "https://lh3.googleusercontent.com/a-/AOh14GiQ0TvUigJghS1huM6jIa6PEnYMd1QQKWQteKhkJw=s64",
      "userId": "11965366870667803723"
     }
    },
    "outputId": "3b83f0ce-0484-4f09-e69d-96fc597f1805"
   },
   "source": [
    "import matplotlib.pyplot as plt\n",
    "import numpy as np\n",
    "\n",
    "\n",
    "Fs = 8000\n",
    "f = 5\n",
    "sample = 8000\n",
    "x = np.arange(sample)\n",
    "y = np.sin(2 * np.pi * f * x / Fs)\n",
    "plt.plot(x, y)\n",
    "plt.xlabel('sample(n)')\n",
    "plt.ylabel('voltage(V)')\n",
    "plt.show()"
   ],
   "execution_count": null,
   "outputs": []
  },
  {
   "cell_type": "code",
   "metadata": {
    "id": "v53F5LPgRriY",
    "colab": {
     "base_uri": "https://localhost:8080/",
     "height": 473
    },
    "executionInfo": {
     "status": "ok",
     "timestamp": 1628546874052,
     "user_tz": -120,
     "elapsed": 7172,
     "user": {
      "displayName": "Ahmed Aimn",
      "photoUrl": "https://lh3.googleusercontent.com/a-/AOh14GiQ0TvUigJghS1huM6jIa6PEnYMd1QQKWQteKhkJw=s64",
      "userId": "11965366870667803723"
     }
    },
    "outputId": "9cbe71a5-3934-49e1-aa66-f68a77819329"
   },
   "source": [
    "# -*- coding: utf-8 -*-\n",
    "from __future__ import print_function\n",
    "import numpy as np\n",
    "import matplotlib.pyplot as plt\n",
    "from gmdhpy.gmdh import Regressor\n",
    "\n",
    "def f(x):\n",
    "    \"\"\" function to approximate by group method of data handling algorithm\"\"\"\n",
    "    return x * np.sin(x) + x + 0.25*x**2 - 0.04*x**3\n",
    "\n",
    "if __name__ == '__main__':\n",
    "\n",
    "    # generate points\n",
    "    x = np.linspace(-2, 10, 200)\n",
    "    n_samples = x.shape[0]\n",
    "\n",
    "    # add random noise\n",
    "    eps = 1.5\n",
    "    eps_data = np.random.uniform(-eps, eps, (n_samples,))\n",
    "    y = f(x)\n",
    "    train_y = y[:] + eps_data[:]\n",
    "\n",
    "    train_x = np.vstack((x, np.power(x, 2)))\n",
    "    model = Regressor(ref_functions=('linear_cov', 'quad'),\n",
    "                      manual_best_neurons_selection=True,\n",
    "                      min_best_neurons_count=30,\n",
    "                      n_jobs='max')\n",
    "\n",
    "\n",
    "    # train model\n",
    "    print(train_y.shape)\n",
    "    print(train_x.shape)\n",
    "\n",
    "    model.fit(train_x, train_y)\n",
    "\n",
    "    # predict with GMDH\n",
    "    y_pred = model.predict(train_x)\n",
    "\n",
    "    plt.plot(x, y, label=\"ground truth\")\n",
    "    plt.scatter(x, train_y, label=\"training points\")\n",
    "    plt.plot(x, y_pred, label=\"fit\")\n",
    "    plt.legend(loc='lower left')\n",
    "\n",
    "    plt.show()"
   ],
   "execution_count": null,
   "outputs": []
  },
  {
   "cell_type": "code",
   "metadata": {
    "id": "-E-2gtJrTofs",
    "colab": {
     "base_uri": "https://localhost:8080/",
     "height": 398
    },
    "executionInfo": {
     "status": "error",
     "timestamp": 1628546884419,
     "user_tz": -120,
     "elapsed": 408,
     "user": {
      "displayName": "Ahmed Aimn",
      "photoUrl": "https://lh3.googleusercontent.com/a-/AOh14GiQ0TvUigJghS1huM6jIa6PEnYMd1QQKWQteKhkJw=s64",
      "userId": "11965366870667803723"
     }
    },
    "outputId": "f4f5fd88-e3d3-4278-ef34-820ce980ac3e"
   },
   "source": [
    "import pandas as pd\n",
    "\n",
    "df = pd.read_pickle(\"emg_dataset_pandas_dataframe.pkl\")\n",
    "\n",
    "from sklearn import preprocessing\n",
    "scaler = preprocessing.StandardScaler()\n",
    "id0= df[\"cls_id\"]==8\n",
    "df[id0]\n",
    "sub1= df[\"sub_id\"]==\"sub1\"\n",
    "df[sub1 & id0]\n",
    "aggres= df[\"type\"]==\"Aggressive\"\n",
    "arr= df[sub1 &  aggres & id0]\n",
    "arr= arr[arr.columns[:1]]\n"
   ],
   "execution_count": null,
   "outputs": []
  },
  {
   "cell_type": "code",
   "metadata": {
    "id": "bCnC8Vb-fGak",
    "colab": {
     "base_uri": "https://localhost:8080/",
     "height": 235
    },
    "executionInfo": {
     "status": "error",
     "timestamp": 1628546902360,
     "user_tz": -120,
     "elapsed": 486,
     "user": {
      "displayName": "Ahmed Aimn",
      "photoUrl": "https://lh3.googleusercontent.com/a-/AOh14GiQ0TvUigJghS1huM6jIa6PEnYMd1QQKWQteKhkJw=s64",
      "userId": "11965366870667803723"
     }
    },
    "outputId": "fed2128a-df87-4150-a699-4f03d6b4b3dd"
   },
   "source": [
    "from __future__ import print_function\n",
    "import numpy as np\n",
    "import matplotlib.pyplot as plt\n",
    "from gmdhpy.gmdh import Regressor\n",
    "\n",
    "model = Regressor(ref_functions=('linear_cov', 'quad'),\n",
    "                      manual_best_neurons_selection=True,\n",
    "                      min_best_neurons_count=30,\n",
    "                      n_jobs='max')\n",
    "model.fit(df[sub1 &  aggres & id0][\"time_ms\"],arr)\n",
    "\n",
    "# predict with GMDH\n",
    "y_pred = model.predict(train_x)\n",
    "\n",
    "plt.plot(x, y, label=\"ground truth\")\n",
    "plt.scatter(x, train_y, label=\"training points\")\n",
    "plt.plot(x, y_pred, label=\"fit\")\n",
    "plt.legend(loc='lower left')\n",
    "\n",
    "plt.show()"
   ],
   "execution_count": null,
   "outputs": []
  },
  {
   "cell_type": "code",
   "metadata": {
    "id": "wPkGB4Upb8R1"
   },
   "source": [
    "id0= df[\"cls_id\"]==8\n",
    "df[id0]\n",
    "sub1= df[\"sub_id\"]==\"sub1\"\n",
    "df[sub1 & id0]\n",
    "aggres= df[\"type\"]==\"Aggressive\"\n",
    "df[sub1 &  aggres & id0]\n",
    "\n",
    "ax= df[sub1 & id0 & aggres].plot(x='time_ms', y='R-Bic',figsize=(12, 12),fontsize=12,linewidth=3)\n",
    "ax.set_xlabel(\"time ms\")\n",
    "ax.set_ylabel(\"R-Tri\")"
   ],
   "execution_count": null,
   "outputs": []
  },
  {
   "cell_type": "code",
   "metadata": {
    "id": "9MW5y7cMcK0k"
   },
   "source": [
    "id0= df[\"cls_id\"]==8\n",
    "df[id0]\n",
    "sub1= df[\"sub_id\"]==\"sub1\"\n",
    "df[sub1 & id0]\n",
    "aggres= df[\"type\"]==\"Aggressive\"\n",
    "x= df[sub1 &  aggres & id0]\n",
    "df[sub1 &  aggres & id0][\"time_ms\"]"
   ],
   "execution_count": null,
   "outputs": []
  },
  {
   "cell_type": "code",
   "metadata": {
    "id": "iCZoNfpvg4_R"
   },
   "source": [
    "df[sub1 &  aggres & id0][\"time_ms\"].shape"
   ],
   "execution_count": null,
   "outputs": []
  },
  {
   "cell_type": "code",
   "metadata": {
    "id": "5y-TDcDrhIFw"
   },
   "source": [
    "arr.shape"
   ],
   "execution_count": null,
   "outputs": []
  },
  {
   "cell_type": "code",
   "metadata": {
    "id": "xZRNS1bQhwno"
   },
   "source": [
    "x = np.linspace(-2, 10, 200)\n",
    "\n",
    "np.power(x, 2)"
   ],
   "execution_count": null,
   "outputs": []
  },
  {
   "cell_type": "code",
   "metadata": {
    "id": "Zt_gbxzck3st"
   },
   "source": [
    "train_x = np.vstack((x, np.power(x, 2)))\n",
    "train_x.shape"
   ],
   "execution_count": null,
   "outputs": []
  },
  {
   "cell_type": "code",
   "metadata": {
    "id": "vz741gH_lZ_9"
   },
   "source": [
    "! mv ../emg_dataset_pandas_dataframe.pkl ."
   ],
   "execution_count": null,
   "outputs": []
  },
  {
   "cell_type": "code",
   "metadata": {
    "id": "LnFNKzVbnqJq"
   },
   "source": [
    "! ls "
   ],
   "execution_count": null,
   "outputs": []
  },
  {
   "cell_type": "code",
   "metadata": {
    "id": "I7-Ly5LYnsYH",
    "colab": {
     "base_uri": "https://localhost:8080/",
     "height": 235
    },
    "executionInfo": {
     "status": "error",
     "timestamp": 1628546911862,
     "user_tz": -120,
     "elapsed": 416,
     "user": {
      "displayName": "Ahmed Aimn",
      "photoUrl": "https://lh3.googleusercontent.com/a-/AOh14GiQ0TvUigJghS1huM6jIa6PEnYMd1QQKWQteKhkJw=s64",
      "userId": "11965366870667803723"
     }
    },
    "outputId": "ccd84065-92e7-4336-8aba-f86e935aea6b"
   },
   "source": [
    "# -*- coding: utf-8 -*-\n",
    "from __future__ import print_function\n",
    "import numpy as np\n",
    "import matplotlib.pyplot as plt\n",
    "from gmdhpy.gmdh import Regressor\n",
    "\n",
    "def f(x):\n",
    "    \"\"\" function to approximate by group method of data handling algorithm\"\"\"\n",
    "    return x * np.sin(x) + x + 0.25*x**2 - 0.04*x**3\n",
    "\n",
    "if __name__ == '__main__':\n",
    "\n",
    "    # generate points\n",
    "    # Get some X\n",
    "    x = np.arange(2400)\n",
    "    n_samples = x.shape[0]\n",
    "    \n",
    "    # add random noise\n",
    "    eps = 1.5\n",
    "    eps_data = np.random.uniform(-eps, eps, (n_samples,))\n",
    "    y = arr[:2400]\n",
    "    train_y = y[:] #+ eps_data[:]\n",
    "    \n",
    "    # Add the rest of X\n",
    "   \n",
    "    train_x = np.vstack((x, x*2))\n",
    "    print(train_x)\n",
    "    model = Regressor(ref_functions=('linear_cov', 'quad'),\n",
    "                      manual_best_neurons_selection=True,\n",
    "                      min_best_neurons_count=30,\n",
    "                      n_jobs='max')\n",
    "\n",
    "    # train model\n",
    "    print(train_y.shape)\n",
    "    print(train_x.shape)\n",
    "\n",
    "    model.fit(train_x, train_y)\n",
    "\n",
    "    # predict with GMDH\n",
    "    y_pred = model.predict(train_x)\n",
    "\n",
    "    plt.plot(x, y, label=\"ground truth\",color ='r')\n",
    "    plt.scatter(x, train_y, label=\"training points\")\n",
    "    plt.plot(x, y_pred, label=\"fit\",color ='g')\n",
    "    plt.legend(loc='lower left')\n",
    "\n",
    "    plt.show()"
   ],
   "execution_count": null,
   "outputs": []
  },
  {
   "cell_type": "code",
   "metadata": {
    "id": "XiK_SN3DrXma"
   },
   "source": [
    "from sklearn.preprocessing import StandardScaler\n",
    "\n",
    "arr = StandardScaler().fit_transform(arr)\n",
    "print(arr.shape)\n",
    "print(arr.dtype)\n",
    "print(np.min(arr))\n",
    "print(np.max(arr))"
   ],
   "execution_count": null,
   "outputs": []
  },
  {
   "cell_type": "code",
   "metadata": {
    "id": "FCtoIo7prXp-"
   },
   "source": [
    "arr = arr.ravel()\n",
    "print(arr.shape)"
   ],
   "execution_count": null,
   "outputs": []
  },
  {
   "cell_type": "code",
   "metadata": {
    "id": "1b96WOcjtGph"
   },
   "source": [
    "plt.plot(arr[:1200])"
   ],
   "execution_count": null,
   "outputs": []
  },
  {
   "cell_type": "code",
   "metadata": {
    "id": "vzZ87mlKvNyZ"
   },
   "source": [
    "np.arange(2400)"
   ],
   "execution_count": null,
   "outputs": []
  },
  {
   "cell_type": "code",
   "metadata": {
    "id": "Grf0FMFY0lje"
   },
   "source": [
    "# -*- coding: utf-8 -*-\n",
    "from __future__ import print_function\n",
    "import numpy as np\n",
    "import matplotlib.pyplot as plt\n",
    "from gmdhpy.gmdh import Regressor\n",
    "\n",
    "def f(x):\n",
    "    \"\"\" function to approximate by group method of data handling algorithm\"\"\"\n",
    "    print(x)\n",
    "    return x * np.sin(x) + x + 0.25*x**2 - 0.04*x**3\n",
    "\n",
    "if __name__ == '__main__':\n",
    "\n",
    "    # generate points\n",
    "    x = np.linspace(-2, 10, 200)\n",
    "    n_samples = x.shape[0]\n",
    "\n",
    "    # add random noise\n",
    "    eps = 1.5\n",
    "    eps_data = np.random.uniform(-eps, eps, (n_samples,))\n",
    "    y = f(x)\n",
    "    train_y = y[:] + eps_data[:]\n",
    "\n",
    "    train_x = np.vstack((x, np.power(x, 2)))\n",
    "    model = Regressor(ref_functions=('linear_cov', 'quad'),\n",
    "                      manual_best_neurons_selection=True,\n",
    "                      min_best_neurons_count=30,\n",
    "                      n_jobs='max')\n",
    "\n",
    "    # train model\n",
    "    model.fit(train_x, train_y)\n",
    "\n",
    "    # predict with GMDH\n",
    "    y_pred = model.predict(train_x)\n",
    "\n",
    "    plt.plot(x, y, label=\"ground truth\")\n",
    "    plt.scatter(x, train_y, label=\"training points\")\n",
    "    plt.plot(x, y_pred, label=\"fit\")\n",
    "    plt.legend(loc='lower left')\n",
    "\n",
    "    plt.show()"
   ],
   "execution_count": null,
   "outputs": []
  },
  {
   "cell_type": "markdown",
   "metadata": {
    "id": "QMVduLAGA5tW"
   },
   "source": [
    "# Training on Google Cloud "
   ]
  },
  {
   "cell_type": "markdown",
   "metadata": {
    "id": "g_h775ENB-jI"
   },
   "source": [
    "## Imports "
   ]
  },
  {
   "cell_type": "code",
   "metadata": {
    "id": "Q7WFamqq2hEl"
   },
   "source": [
    "import numpy\n",
    "import matplotlib.pyplot as plt\n",
    "from pandas import read_csv\n",
    "import math\n",
    "from tqdm import tqdm\n",
    "from keras.models import Sequential\n",
    "from keras.layers import Dense\n",
    "from keras.layers import LSTM\n",
    "from sklearn.preprocessing import MinMaxScaler, StandardScaler\n",
    "from sklearn.metrics import mean_squared_error\n",
    "import pandas as pd\n",
    "import numpy as np\n",
    "\n"
   ],
   "execution_count": null,
   "outputs": []
  },
  {
   "cell_type": "markdown",
   "metadata": {
    "id": "ivK_WTI0B3bt"
   },
   "source": [
    "## Convert an array of values into a dataset matrix\n"
   ]
  },
  {
   "cell_type": "code",
   "metadata": {
    "id": "XJ1mj7eAa1DH"
   },
   "source": [
    "\n",
    "def create_dataset(dataset, look_back=1):\n",
    "    dataX, dataY = [], []\n",
    "    for i in range(len(dataset) - look_back - 1):\n",
    "        a = dataset[i:(i + look_back), 0]\n",
    "        dataX.append(a)\n",
    "        dataY.append(dataset[i + look_back, 0])\n",
    "    return numpy.array(dataX), numpy.array(dataY)\n",
    "\n"
   ],
   "execution_count": null,
   "outputs": []
  },
  {
   "cell_type": "markdown",
   "metadata": {
    "id": "T5xnCz4NCNLk"
   },
   "source": [
    "## Load the dataset\n"
   ]
  },
  {
   "cell_type": "code",
   "metadata": {
    "id": "33Ul3tiea7e1",
    "colab": {
     "base_uri": "https://localhost:8080/",
     "height": 391
    },
    "executionInfo": {
     "status": "error",
     "timestamp": 1626882488415,
     "user_tz": -120,
     "elapsed": 885,
     "user": {
      "displayName": "Ahmed Aimn",
      "photoUrl": "https://lh3.googleusercontent.com/a-/AOh14GiQ0TvUigJghS1huM6jIa6PEnYMd1QQKWQteKhkJw=s64",
      "userId": "11965366870667803723"
     }
    },
    "outputId": "84ca5ee0-0c61-4706-b13d-b2cf1a27b4aa"
   },
   "source": [
    "\n",
    "dataframe = pd.read_pickle(\"emg_dataframe_sub4.pkl\")\n",
    "\n",
    "dataset = dataframe[dataframe.columns[1]].values\n",
    "dataset = dataset[:9574].astype('float32')\n",
    "print(dataset.shape)\n",
    "dataset = np.reshape(dataset, (-1, 1))\n"
   ],
   "execution_count": null,
   "outputs": []
  },
  {
   "cell_type": "code",
   "metadata": {
    "id": "ecBfqtbs_gSR"
   },
   "source": [
    ""
   ],
   "execution_count": null,
   "outputs": []
  },
  {
   "cell_type": "code",
   "metadata": {
    "id": "88b0XUA0_hTo"
   },
   "source": [
    ""
   ],
   "execution_count": null,
   "outputs": []
  },
  {
   "cell_type": "code",
   "metadata": {
    "id": "DT1lfts0_gCP"
   },
   "source": [
    ""
   ],
   "execution_count": null,
   "outputs": []
  },
  {
   "cell_type": "code",
   "metadata": {
    "id": "frPHh11k_fjl"
   },
   "source": [
    ""
   ],
   "execution_count": null,
   "outputs": []
  },
  {
   "cell_type": "markdown",
   "metadata": {
    "id": "Jlyv-hJFCin7"
   },
   "source": [
    "## Normalize dataset "
   ]
  },
  {
   "cell_type": "code",
   "metadata": {
    "id": "EoX67y24a8Nx"
   },
   "source": [
    "\n",
    "scaler = StandardScaler()\n",
    "dataset = scaler.fit_transform(dataset)\n"
   ],
   "execution_count": null,
   "outputs": []
  },
  {
   "cell_type": "markdown",
   "metadata": {
    "id": "OK-VeDb-Cu3_"
   },
   "source": [
    "## Split into train and test sets\n"
   ]
  },
  {
   "cell_type": "code",
   "metadata": {
    "id": "yscGVIava9vM"
   },
   "source": [
    "train_size = int(len(dataset) * 0.67)\n",
    "test_size = len(dataset) - train_size\n",
    "train, test = dataset[0:train_size, :], dataset[train_size:len(dataset), :]\n"
   ],
   "execution_count": null,
   "outputs": []
  },
  {
   "cell_type": "markdown",
   "metadata": {
    "id": "w1Lvh0jKC2T9"
   },
   "source": [
    "## Reshape into X=t and Y=t+1\n"
   ]
  },
  {
   "cell_type": "code",
   "metadata": {
    "id": "P14xaMfFa_Gj"
   },
   "source": [
    "\n",
    "look_back = 10\n",
    "trainX, trainY = create_dataset(train, look_back)\n",
    "testX, testY = create_dataset(test, look_back)\n"
   ],
   "execution_count": null,
   "outputs": []
  },
  {
   "cell_type": "markdown",
   "metadata": {
    "id": "MJ2Ry-giC7-I"
   },
   "source": [
    "## Reshape input to be [samples, time steps, features]\n"
   ]
  },
  {
   "cell_type": "code",
   "metadata": {
    "id": "FkWGDWAZa__O"
   },
   "source": [
    "\n",
    "trainX = numpy.reshape(trainX, (trainX.shape[0], trainX.shape[1], 1))\n",
    "testX = numpy.reshape(testX, (testX.shape[0], testX.shape[1], 1))\n",
    "print(trainX.shape, trainX.dtype)\n",
    "print(trainY.shape, trainY.dtype)\n",
    "# with open(\"prediction_data.bin\", \"wb\") as f:\n",
    "#     f.write(trainX.byteswap(True).tobytes())\n",
    "# with open(\"prediction_labels.bin\", \"wb\") as f:\n",
    "#     f.write(trainY.byteswap(True).tobytes())\n"
   ],
   "execution_count": null,
   "outputs": []
  },
  {
   "cell_type": "markdown",
   "metadata": {
    "id": "mFtsCleZDBdm"
   },
   "source": [
    "## Create and train the network\n"
   ]
  },
  {
   "cell_type": "code",
   "metadata": {
    "id": "Seg8eckzbBxf"
   },
   "source": [
    "\n",
    "batch_size = 64\n",
    "model = Sequential()\n",
    "model.add(LSTM(4, input_shape=(look_back, 1)))\n",
    "model.add(Dense(1))\n",
    "model.compile(loss='mean_squared_error', optimizer='adam')\n",
    "for i in tqdm(range(100)):\n",
    "    model.fit(trainX, trainY, epochs=1, batch_size=batch_size, verbose=0, shuffle=False)\n",
    "    model.reset_states()\n",
    "    "
   ],
   "execution_count": null,
   "outputs": []
  },
  {
   "cell_type": "markdown",
   "metadata": {
    "id": "ajXZaeJaDVAC"
   },
   "source": [
    "## Make predictions\n"
   ]
  },
  {
   "cell_type": "code",
   "metadata": {
    "id": "cFdTrp4RbDNt",
    "colab": {
     "base_uri": "https://localhost:8080/",
     "height": 214
    },
    "executionInfo": {
     "status": "error",
     "timestamp": 1628541580534,
     "user_tz": -120,
     "elapsed": 680,
     "user": {
      "displayName": "Ahmed Aimn",
      "photoUrl": "https://lh3.googleusercontent.com/a-/AOh14GiQ0TvUigJghS1huM6jIa6PEnYMd1QQKWQteKhkJw=s64",
      "userId": "11965366870667803723"
     }
    },
    "outputId": "87c413a7-34ce-44f6-cc5b-e276ae112369"
   },
   "source": [
    "\n",
    "trainPredict = model.predict(trainX, batch_size=batch_size)\n",
    "model.reset_states()\n",
    "testPredict = model.predict(testX, batch_size=batch_size)\n"
   ],
   "execution_count": null,
   "outputs": []
  },
  {
   "cell_type": "markdown",
   "metadata": {
    "id": "LVJjqGymDZnq"
   },
   "source": [
    "## Invert predictions\n"
   ]
  },
  {
   "cell_type": "code",
   "metadata": {
    "id": "eAX0AKDIVJYs"
   },
   "source": [
    ""
   ],
   "execution_count": null,
   "outputs": []
  },
  {
   "cell_type": "code",
   "metadata": {
    "id": "EPaxF9TIbEkV"
   },
   "source": [
    "\n",
    "trainPredict = scaler.inverse_transform(trainPredict)\n",
    "trainY = scaler.inverse_transform([trainY])\n",
    "testPredict = scaler.inverse_transform(testPredict)\n",
    "testY = scaler.inverse_transform([testY])\n"
   ],
   "execution_count": null,
   "outputs": []
  },
  {
   "cell_type": "markdown",
   "metadata": {
    "id": "slqLIvMtDdjh"
   },
   "source": [
    "## Calculate root mean squared error\n"
   ]
  },
  {
   "cell_type": "markdown",
   "metadata": {
    "id": "qk_4KELh2aex"
   },
   "source": [
    "# New Section"
   ]
  },
  {
   "cell_type": "code",
   "metadata": {
    "id": "8Gw8mytVbGAj"
   },
   "source": [
    "\n",
    "trainScore = math.sqrt(mean_squared_error(trainY[0], trainPredict[:, 0]))\n",
    "print('Train Score: %.2f RMSE' % (trainScore))\n",
    "testScore = math.sqrt(mean_squared_error(testY[0], testPredict[:, 0]))\n",
    "print('Test Score: %.2f RMSE' % (testScore))\n"
   ],
   "execution_count": null,
   "outputs": []
  },
  {
   "cell_type": "markdown",
   "metadata": {
    "id": "3OIt06NHDmCF"
   },
   "source": [
    "## Shift train predictions for plotting\n"
   ]
  },
  {
   "cell_type": "code",
   "metadata": {
    "id": "m3GL9lmXbIDl"
   },
   "source": [
    "\n",
    "trainPredictPlot = numpy.empty_like(dataset)\n",
    "trainPredictPlot[:, :] = numpy.nan\n",
    "trainPredictPlot[look_back:len(trainPredict) + look_back, :] = trainPredict\n"
   ],
   "execution_count": null,
   "outputs": []
  },
  {
   "cell_type": "markdown",
   "metadata": {
    "id": "MwYp_NCxDvrb"
   },
   "source": [
    "## Shift test predictions for plotting\n"
   ]
  },
  {
   "cell_type": "code",
   "metadata": {
    "id": "1U_OODx2bKFr"
   },
   "source": [
    "\n",
    "testPredictPlot = numpy.empty_like(dataset)\n",
    "testPredictPlot[:, :] = numpy.nan\n",
    "testPredictPlot[len(trainPredict) + (look_back * 2) + 1:len(dataset) - 1, :] = testPredict\n"
   ],
   "execution_count": null,
   "outputs": []
  },
  {
   "cell_type": "markdown",
   "metadata": {
    "id": "cAVVXCynD1i5"
   },
   "source": [
    "## Plot baseline and predictions\n"
   ]
  },
  {
   "cell_type": "code",
   "metadata": {
    "id": "UXVbENqebLTh"
   },
   "source": [
    "plt.figure(figsize=(20,6))\n",
    "\n",
    "plt.plot(scaler.inverse_transform(dataset))\n",
    "plt.show()\n"
   ],
   "execution_count": null,
   "outputs": []
  },
  {
   "cell_type": "code",
   "metadata": {
    "id": "lqL19ZYMbM66"
   },
   "source": [
    "plt.figure(figsize=(20,6))\n",
    "\n",
    "plt.plot(trainPredict,label=\"Train prediction\")\n",
    "plt.plot(testPredictPlot,label=\"Test prediction\")\n",
    "plt.legend(loc='lower left')\n",
    "\n",
    "plt.show()\n"
   ],
   "execution_count": null,
   "outputs": []
  },
  {
   "cell_type": "code",
   "metadata": {
    "id": "sspcawdjIwa-"
   },
   "source": [
    ""
   ],
   "execution_count": null,
   "outputs": []
  },
  {
   "cell_type": "code",
   "metadata": {
    "id": "Rdb2LIVpUr7D"
   },
   "source": [
    ""
   ],
   "execution_count": null,
   "outputs": []
  }
 ]
}